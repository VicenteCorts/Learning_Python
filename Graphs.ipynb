{
 "cells": [
  {
   "cell_type": "code",
   "execution_count": 11,
   "id": "974521a6-c15f-4984-9a1b-19965f97023e",
   "metadata": {},
   "outputs": [],
   "source": [
    "#Making basic bokeh Graph\n",
    "\n",
    "#importing bokeh\n",
    "from bokeh.plotting import figure\n",
    "from bokeh.io import output_file, show\n",
    "\n",
    "#prepare some data\n",
    "x=[1,2,3]\n",
    "y=[6,7,8]\n",
    "\n",
    "#prepare de output file\n",
    "output_file(\"Line.html\")\n",
    "\n",
    "#create figure object\n",
    "f=figure()\n",
    "\n",
    "#create line plot\n",
    "f.line(x,y)\n",
    "#f.triangle(x,y) -> BokehDeprecationWarning: 'triangle() method' was deprecated in Bokeh 3.4.0 and will be removed, use \"scatter(marker='triangle', ...) instead\" instead.\n",
    "#f.circle(x,y,0.1)\n",
    "\n",
    "#write the plot in the figure boject\n",
    "show(f)\n",
    "\n",
    "#Crt+Enter para ver el gráfico\n",
    "#Jugar con las pestañas laterales"
   ]
  },
  {
   "cell_type": "code",
   "execution_count": 4,
   "id": "3700fd49-1ec9-4603-b3b3-74a9c70a9a1c",
   "metadata": {},
   "outputs": [],
   "source": [
    "#Making basic bokeh Graph\n",
    "\n",
    "#importing bokeh and pandas\n",
    "from bokeh.plotting import figure\n",
    "from bokeh.io import output_file, show\n",
    "import pandas\n",
    "\n",
    "#prepare some data\n",
    "df=pandas.read_csv(\"downloads/data.csv\")\n",
    "x=df[\"x\"]\n",
    "y=df[\"y\"]\n",
    "\n",
    "#prepare de output file\n",
    "output_file(\"Line_from_csv.html\")\n",
    "\n",
    "#create figure object\n",
    "f=figure()\n",
    "\n",
    "#create line plot\n",
    "f.line(x,y)\n",
    "#f.triangle(x,y) -> BokehDeprecationWarning: 'triangle() method' was deprecated in Bokeh 3.4.0 and will be removed, use \"scatter(marker='triangle', ...) instead\" instead.\n",
    "#f.circle(x,y,0.1)\n",
    "\n",
    "#write the plot in the figure boject\n",
    "show(f)\n",
    "\n",
    "#Crt+Enter para ver el gráfico\n",
    "#Jugar con las pestañas laterales"
   ]
  },
  {
   "cell_type": "code",
   "execution_count": 6,
   "id": "10b2fde6-7723-4636-aa74-c33e6957f8a6",
   "metadata": {},
   "outputs": [
    {
     "data": {
      "text/html": [
       "<div>\n",
       "<style scoped>\n",
       "    .dataframe tbody tr th:only-of-type {\n",
       "        vertical-align: middle;\n",
       "    }\n",
       "\n",
       "    .dataframe tbody tr th {\n",
       "        vertical-align: top;\n",
       "    }\n",
       "\n",
       "    .dataframe thead th {\n",
       "        text-align: right;\n",
       "    }\n",
       "</style>\n",
       "<table border=\"1\" class=\"dataframe\">\n",
       "  <thead>\n",
       "    <tr style=\"text-align: right;\">\n",
       "      <th></th>\n",
       "      <th>x</th>\n",
       "      <th>y</th>\n",
       "    </tr>\n",
       "  </thead>\n",
       "  <tbody>\n",
       "    <tr>\n",
       "      <th>0</th>\n",
       "      <td>1</td>\n",
       "      <td>6</td>\n",
       "    </tr>\n",
       "    <tr>\n",
       "      <th>1</th>\n",
       "      <td>2</td>\n",
       "      <td>7</td>\n",
       "    </tr>\n",
       "    <tr>\n",
       "      <th>2</th>\n",
       "      <td>3</td>\n",
       "      <td>8</td>\n",
       "    </tr>\n",
       "    <tr>\n",
       "      <th>3</th>\n",
       "      <td>4</td>\n",
       "      <td>9</td>\n",
       "    </tr>\n",
       "    <tr>\n",
       "      <th>4</th>\n",
       "      <td>5</td>\n",
       "      <td>10</td>\n",
       "    </tr>\n",
       "  </tbody>\n",
       "</table>\n",
       "</div>"
      ],
      "text/plain": [
       "   x   y\n",
       "0  1   6\n",
       "1  2   7\n",
       "2  3   8\n",
       "3  4   9\n",
       "4  5  10"
      ]
     },
     "execution_count": 6,
     "metadata": {},
     "output_type": "execute_result"
    }
   ],
   "source": [
    "df"
   ]
  },
  {
   "cell_type": "code",
   "execution_count": 7,
   "id": "f848a981-0548-4e3e-b3f6-2c68f76b6f94",
   "metadata": {},
   "outputs": [
    {
     "data": {
      "text/plain": [
       "0     6\n",
       "1     7\n",
       "2     8\n",
       "3     9\n",
       "4    10\n",
       "Name: y, dtype: int64"
      ]
     },
     "execution_count": 7,
     "metadata": {},
     "output_type": "execute_result"
    }
   ],
   "source": [
    "df[\"y\"]"
   ]
  },
  {
   "cell_type": "code",
   "execution_count": null,
   "id": "574d9a6d-1e4b-4c7d-b29c-a896c004fba7",
   "metadata": {},
   "outputs": [],
   "source": []
  }
 ],
 "metadata": {
  "kernelspec": {
   "display_name": "Python 3 (ipykernel)",
   "language": "python",
   "name": "python3"
  },
  "language_info": {
   "codemirror_mode": {
    "name": "ipython",
    "version": 3
   },
   "file_extension": ".py",
   "mimetype": "text/x-python",
   "name": "python",
   "nbconvert_exporter": "python",
   "pygments_lexer": "ipython3",
   "version": "3.13.0"
  }
 },
 "nbformat": 4,
 "nbformat_minor": 5
}
