{
 "cells": [
  {
   "cell_type": "code",
   "execution_count": 1,
   "id": "283e1227-cf08-4224-a5b5-88a09d34ba41",
   "metadata": {},
   "outputs": [],
   "source": [
    "import numpy"
   ]
  },
  {
   "cell_type": "code",
   "execution_count": 4,
   "id": "03459648-2131-4705-908c-148523fc8c92",
   "metadata": {},
   "outputs": [
    {
     "data": {
      "text/plain": [
       "numpy.ndarray"
      ]
     },
     "execution_count": 4,
     "metadata": {},
     "output_type": "execute_result"
    }
   ],
   "source": [
    "n=numpy.arange(27)\n",
    "type(n)"
   ]
  },
  {
   "cell_type": "code",
   "execution_count": 5,
   "id": "4ac05e14-f346-4989-9f19-fad744937c30",
   "metadata": {},
   "outputs": [
    {
     "name": "stdout",
     "output_type": "stream",
     "text": [
      "[ 0  1  2  3  4  5  6  7  8  9 10 11 12 13 14 15 16 17 18 19 20 21 22 23\n",
      " 24 25 26]\n"
     ]
    }
   ],
   "source": [
    "print(n)"
   ]
  },
  {
   "cell_type": "code",
   "execution_count": 7,
   "id": "5428eb70-ac95-4639-b6a0-0b4870232669",
   "metadata": {},
   "outputs": [
    {
     "data": {
      "text/plain": [
       "array([[[ 0,  1,  2],\n",
       "        [ 3,  4,  5],\n",
       "        [ 6,  7,  8]],\n",
       "\n",
       "       [[ 9, 10, 11],\n",
       "        [12, 13, 14],\n",
       "        [15, 16, 17]],\n",
       "\n",
       "       [[18, 19, 20],\n",
       "        [21, 22, 23],\n",
       "        [24, 25, 26]]])"
      ]
     },
     "execution_count": 7,
     "metadata": {},
     "output_type": "execute_result"
    }
   ],
   "source": [
    "n.reshape(3,3,3)"
   ]
  },
  {
   "cell_type": "code",
   "execution_count": 8,
   "id": "5852b6b1-040a-45d0-ad9e-3fccfc0a8e8b",
   "metadata": {},
   "outputs": [
    {
     "data": {
      "text/plain": [
       "array([[1, 2, 3, 4, 5],\n",
       "       [1, 2, 3, 4, 5],\n",
       "       [1, 2, 3, 4, 5]])"
      ]
     },
     "execution_count": 8,
     "metadata": {},
     "output_type": "execute_result"
    }
   ],
   "source": [
    "m=numpy.asarray([[1, 2, 3, 4, 5], [1, 2, 3, 4, 5], [1, 2, 3, 4, 5]])  \n",
    "m"
   ]
  },
  {
   "cell_type": "code",
   "execution_count": 9,
   "id": "ba48b8a6-daed-467a-8886-d534b768c8aa",
   "metadata": {},
   "outputs": [
    {
     "name": "stdout",
     "output_type": "stream",
     "text": [
      "[[1 2 3 4 5]\n",
      " [1 2 3 4 5]\n",
      " [1 2 3 4 5]]\n"
     ]
    }
   ],
   "source": [
    "print(m)"
   ]
  },
  {
   "cell_type": "code",
   "execution_count": 10,
   "id": "7f0f1e55-d45d-4e58-a7e1-82c349d61789",
   "metadata": {},
   "outputs": [
    {
     "data": {
      "text/plain": [
       "numpy.ndarray"
      ]
     },
     "execution_count": 10,
     "metadata": {},
     "output_type": "execute_result"
    }
   ],
   "source": [
    "type(m)"
   ]
  },
  {
   "cell_type": "code",
   "execution_count": 11,
   "id": "372f6f2b-b1b2-4b61-95df-be103b970e06",
   "metadata": {},
   "outputs": [],
   "source": [
    "import cv2 "
   ]
  },
  {
   "cell_type": "code",
   "execution_count": 12,
   "id": "774daa76-3861-437a-84c0-d24e536dd0d3",
   "metadata": {},
   "outputs": [
    {
     "data": {
      "text/plain": [
       "array([[187, 158, 104, 121, 143],\n",
       "       [198, 125, 255, 255, 147],\n",
       "       [209, 134, 255,  97, 182]], dtype=uint8)"
      ]
     },
     "execution_count": 12,
     "metadata": {},
     "output_type": "execute_result"
    }
   ],
   "source": [
    "im_g=cv2.imread(\"img/smallgray.png\", 0)\n",
    "im_g"
   ]
  },
  {
   "cell_type": "code",
   "execution_count": 13,
   "id": "29aa7f79-7646-4d07-8e8b-c7fc2cc4a893",
   "metadata": {},
   "outputs": [
    {
     "data": {
      "text/plain": [
       "array([[[187, 187, 187],\n",
       "        [158, 158, 158],\n",
       "        [104, 104, 104],\n",
       "        [121, 121, 121],\n",
       "        [143, 143, 143]],\n",
       "\n",
       "       [[198, 198, 198],\n",
       "        [125, 125, 125],\n",
       "        [255, 255, 255],\n",
       "        [255, 255, 255],\n",
       "        [147, 147, 147]],\n",
       "\n",
       "       [[209, 209, 209],\n",
       "        [134, 134, 134],\n",
       "        [255, 255, 255],\n",
       "        [ 97,  97,  97],\n",
       "        [182, 182, 182]]], dtype=uint8)"
      ]
     },
     "execution_count": 13,
     "metadata": {},
     "output_type": "execute_result"
    }
   ],
   "source": [
    "im_g=cv2.imread(\"img/smallgray.png\", 1)\n",
    "im_g"
   ]
  },
  {
   "cell_type": "code",
   "execution_count": 15,
   "id": "fe7e0cc1-384d-4d8f-8576-daf922c92d6f",
   "metadata": {},
   "outputs": [
    {
     "data": {
      "text/plain": [
       "True"
      ]
     },
     "execution_count": 15,
     "metadata": {},
     "output_type": "execute_result"
    }
   ],
   "source": [
    "cv2.imwrite(\"img/newsmallgray.png\",im_g)"
   ]
  },
  {
   "cell_type": "code",
   "execution_count": null,
   "id": "8bff2317-7f64-43fd-827a-10a2740b2d8f",
   "metadata": {},
   "outputs": [],
   "source": []
  }
 ],
 "metadata": {
  "kernelspec": {
   "display_name": "Python 3 (ipykernel)",
   "language": "python",
   "name": "python3"
  },
  "language_info": {
   "codemirror_mode": {
    "name": "ipython",
    "version": 3
   },
   "file_extension": ".py",
   "mimetype": "text/x-python",
   "name": "python",
   "nbconvert_exporter": "python",
   "pygments_lexer": "ipython3",
   "version": "3.13.0"
  }
 },
 "nbformat": 4,
 "nbformat_minor": 5
}
